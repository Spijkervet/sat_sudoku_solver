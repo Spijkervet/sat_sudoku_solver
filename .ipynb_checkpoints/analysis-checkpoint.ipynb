{
 "cells": [
  {
   "cell_type": "markdown",
   "metadata": {},
   "source": [
    "# Analysis\n",
    "- Baseline data, Random strategy, 10x (results_baseline.csv)\n",
    "- \n"
   ]
  },
  {
   "cell_type": "code",
   "execution_count": 551,
   "metadata": {},
   "outputs": [],
   "source": [
    "import pandas as pd\n",
    "import matplotlib.pyplot as plt\n",
    "import numpy as np\n",
    "import glob\n",
    "import seaborn as sns\n",
    "%matplotlib inline\n",
    "\n",
    "\n",
    "DIR = 'results/*'\n",
    "\n",
    "frames = []\n",
    "files = glob.glob(DIR)\n",
    "for f in files:\n",
    "    frames.append(pd.read_csv(f))\n",
    "    \n",
    "df = pd.concat(frames)\n",
    "\n",
    "df['dataset'] = df.apply(lambda row: row.file_name.split('/')[2].replace('.txt','').replace('.sdk', ''), axis=1)\n",
    "df = df.groupby(['file_name', 'strategy', 'dataset'], as_index=False).mean()\n",
    "df.columns\n",
    "df = df[df['givens'] < 29]\n"
   ]
  },
  {
   "cell_type": "code",
   "execution_count": 552,
   "metadata": {},
   "outputs": [],
   "source": [
    "splits = df.groupby(['dataset', 'strategy'])['splits']\n",
    "backtracks = df.groupby(['dataset', 'strategy'])['backtracks']\n",
    "givens = df.groupby(['dataset', 'strategy'])['givens']\n",
    "execution_time = df.groupby(['dataset', 'strategy'])['execution_time']"
   ]
  },
  {
   "cell_type": "code",
   "execution_count": 570,
   "metadata": {},
   "outputs": [
    {
     "data": {
      "text/html": [
       "<div>\n",
       "<style scoped>\n",
       "    .dataframe tbody tr th:only-of-type {\n",
       "        vertical-align: middle;\n",
       "    }\n",
       "\n",
       "    .dataframe tbody tr th {\n",
       "        vertical-align: top;\n",
       "    }\n",
       "\n",
       "    .dataframe thead th {\n",
       "        text-align: right;\n",
       "    }\n",
       "</style>\n",
       "<table border=\"1\" class=\"dataframe\">\n",
       "  <thead>\n",
       "    <tr style=\"text-align: right;\">\n",
       "      <th></th>\n",
       "      <th>givens</th>\n",
       "      <th>file_name</th>\n",
       "      <th>strategy</th>\n",
       "      <th>dataset</th>\n",
       "      <th>splits</th>\n",
       "      <th>backtracks</th>\n",
       "      <th>clauses</th>\n",
       "      <th>variables</th>\n",
       "      <th>unit_rule</th>\n",
       "      <th>pure_rule</th>\n",
       "      <th>execution_time</th>\n",
       "    </tr>\n",
       "  </thead>\n",
       "  <tbody>\n",
       "    <tr>\n",
       "      <th>0</th>\n",
       "      <td>17.0</td>\n",
       "      <td>370</td>\n",
       "      <td>370</td>\n",
       "      <td>370</td>\n",
       "      <td>370</td>\n",
       "      <td>370</td>\n",
       "      <td>370</td>\n",
       "      <td>370</td>\n",
       "      <td>370</td>\n",
       "      <td>370</td>\n",
       "      <td>370</td>\n",
       "    </tr>\n",
       "    <tr>\n",
       "      <th>1</th>\n",
       "      <td>19.0</td>\n",
       "      <td>7</td>\n",
       "      <td>7</td>\n",
       "      <td>7</td>\n",
       "      <td>7</td>\n",
       "      <td>7</td>\n",
       "      <td>7</td>\n",
       "      <td>7</td>\n",
       "      <td>7</td>\n",
       "      <td>7</td>\n",
       "      <td>7</td>\n",
       "    </tr>\n",
       "    <tr>\n",
       "      <th>2</th>\n",
       "      <td>20.0</td>\n",
       "      <td>9</td>\n",
       "      <td>9</td>\n",
       "      <td>9</td>\n",
       "      <td>9</td>\n",
       "      <td>9</td>\n",
       "      <td>9</td>\n",
       "      <td>9</td>\n",
       "      <td>9</td>\n",
       "      <td>9</td>\n",
       "      <td>9</td>\n",
       "    </tr>\n",
       "    <tr>\n",
       "      <th>3</th>\n",
       "      <td>21.0</td>\n",
       "      <td>153</td>\n",
       "      <td>153</td>\n",
       "      <td>153</td>\n",
       "      <td>153</td>\n",
       "      <td>153</td>\n",
       "      <td>153</td>\n",
       "      <td>153</td>\n",
       "      <td>153</td>\n",
       "      <td>153</td>\n",
       "      <td>153</td>\n",
       "    </tr>\n",
       "    <tr>\n",
       "      <th>4</th>\n",
       "      <td>22.0</td>\n",
       "      <td>483</td>\n",
       "      <td>483</td>\n",
       "      <td>483</td>\n",
       "      <td>483</td>\n",
       "      <td>483</td>\n",
       "      <td>483</td>\n",
       "      <td>483</td>\n",
       "      <td>483</td>\n",
       "      <td>483</td>\n",
       "      <td>483</td>\n",
       "    </tr>\n",
       "    <tr>\n",
       "      <th>5</th>\n",
       "      <td>23.0</td>\n",
       "      <td>1277</td>\n",
       "      <td>1277</td>\n",
       "      <td>1277</td>\n",
       "      <td>1277</td>\n",
       "      <td>1277</td>\n",
       "      <td>1277</td>\n",
       "      <td>1277</td>\n",
       "      <td>1277</td>\n",
       "      <td>1277</td>\n",
       "      <td>1277</td>\n",
       "    </tr>\n",
       "    <tr>\n",
       "      <th>6</th>\n",
       "      <td>24.0</td>\n",
       "      <td>1771</td>\n",
       "      <td>1771</td>\n",
       "      <td>1771</td>\n",
       "      <td>1771</td>\n",
       "      <td>1771</td>\n",
       "      <td>1771</td>\n",
       "      <td>1771</td>\n",
       "      <td>1771</td>\n",
       "      <td>1771</td>\n",
       "      <td>1771</td>\n",
       "    </tr>\n",
       "    <tr>\n",
       "      <th>7</th>\n",
       "      <td>25.0</td>\n",
       "      <td>1560</td>\n",
       "      <td>1560</td>\n",
       "      <td>1560</td>\n",
       "      <td>1560</td>\n",
       "      <td>1560</td>\n",
       "      <td>1560</td>\n",
       "      <td>1560</td>\n",
       "      <td>1560</td>\n",
       "      <td>1560</td>\n",
       "      <td>1560</td>\n",
       "    </tr>\n",
       "    <tr>\n",
       "      <th>8</th>\n",
       "      <td>26.0</td>\n",
       "      <td>933</td>\n",
       "      <td>933</td>\n",
       "      <td>933</td>\n",
       "      <td>933</td>\n",
       "      <td>933</td>\n",
       "      <td>933</td>\n",
       "      <td>933</td>\n",
       "      <td>933</td>\n",
       "      <td>933</td>\n",
       "      <td>933</td>\n",
       "    </tr>\n",
       "    <tr>\n",
       "      <th>9</th>\n",
       "      <td>27.0</td>\n",
       "      <td>329</td>\n",
       "      <td>329</td>\n",
       "      <td>329</td>\n",
       "      <td>329</td>\n",
       "      <td>329</td>\n",
       "      <td>329</td>\n",
       "      <td>329</td>\n",
       "      <td>329</td>\n",
       "      <td>329</td>\n",
       "      <td>329</td>\n",
       "    </tr>\n",
       "    <tr>\n",
       "      <th>10</th>\n",
       "      <td>28.0</td>\n",
       "      <td>56</td>\n",
       "      <td>56</td>\n",
       "      <td>56</td>\n",
       "      <td>56</td>\n",
       "      <td>56</td>\n",
       "      <td>56</td>\n",
       "      <td>56</td>\n",
       "      <td>56</td>\n",
       "      <td>56</td>\n",
       "      <td>56</td>\n",
       "    </tr>\n",
       "  </tbody>\n",
       "</table>\n",
       "</div>"
      ],
      "text/plain": [
       "    givens  file_name  strategy  dataset  splits  backtracks  clauses  \\\n",
       "0     17.0        370       370      370     370         370      370   \n",
       "1     19.0          7         7        7       7           7        7   \n",
       "2     20.0          9         9        9       9           9        9   \n",
       "3     21.0        153       153      153     153         153      153   \n",
       "4     22.0        483       483      483     483         483      483   \n",
       "5     23.0       1277      1277     1277    1277        1277     1277   \n",
       "6     24.0       1771      1771     1771    1771        1771     1771   \n",
       "7     25.0       1560      1560     1560    1560        1560     1560   \n",
       "8     26.0        933       933      933     933         933      933   \n",
       "9     27.0        329       329      329     329         329      329   \n",
       "10    28.0         56        56       56      56          56       56   \n",
       "\n",
       "    variables  unit_rule  pure_rule  execution_time  \n",
       "0         370        370        370             370  \n",
       "1           7          7          7               7  \n",
       "2           9          9          9               9  \n",
       "3         153        153        153             153  \n",
       "4         483        483        483             483  \n",
       "5        1277       1277       1277            1277  \n",
       "6        1771       1771       1771            1771  \n",
       "7        1560       1560       1560            1560  \n",
       "8         933        933        933             933  \n",
       "9         329        329        329             329  \n",
       "10         56         56         56              56  "
      ]
     },
     "execution_count": 570,
     "metadata": {},
     "output_type": "execute_result"
    }
   ],
   "source": [
    "g = df.groupby(['givens'], as_index=False).count()\n",
    "g\n",
    "\n",
    "# print(b1acktracks.mean(), backtracks.std())\n",
    "\n",
    "# print(backtracks.mean(), backtracks.std())\n",
    "# print(givens.mean(), givens.std())\n",
    "# print(unit_rule.mean(), unit_rule.std())\n",
    "# print(pure_rule.mean(), pure_rule.std())"
   ]
  },
  {
   "cell_type": "code",
   "execution_count": 554,
   "metadata": {},
   "outputs": [
    {
     "name": "stdout",
     "output_type": "stream",
     "text": [
      "dataset       strategy  \n",
      "1000-sudokus  DLIS             73.169475\n",
      "              Grab First        5.508424\n",
      "              RDLIS             6.095144\n",
      "              Random            5.060456\n",
      "damnhard      DLIS          14112.848485\n",
      "              Grab First      110.333333\n",
      "              RDLIS           188.937500\n",
      "              Random           95.515152\n",
      "top870        DLIS           2200.883041\n",
      "              Grab First       65.455172\n",
      "              RDLIS            78.666667\n",
      "              Random           61.975517\n",
      "Name: backtracks, dtype: float64\n"
     ]
    }
   ],
   "source": [
    "print(backtracks.mean())"
   ]
  },
  {
   "cell_type": "code",
   "execution_count": 555,
   "metadata": {},
   "outputs": [
    {
     "name": "stdout",
     "output_type": "stream",
     "text": [
      "dataset       strategy  \n",
      "1000-sudokus  DLIS          1.246621\n",
      "              Grab First    1.246621\n",
      "              RDLIS         1.246621\n",
      "              Random        1.246621\n",
      "damnhard      DLIS          0.000000\n",
      "              Grab First    0.000000\n",
      "              RDLIS         0.000000\n",
      "              Random        0.000000\n",
      "top870        DLIS          1.984009\n",
      "              Grab First    2.161709\n",
      "              RDLIS         2.161709\n",
      "              Random        2.161709\n",
      "Name: givens, dtype: float64\n"
     ]
    },
    {
     "data": {
      "text/plain": [
       "Text(0.5, 0.98, '')"
      ]
     },
     "execution_count": 555,
     "metadata": {},
     "output_type": "execute_result"
    },
    {
     "data": {
      "image/png": "[encoded data removed]",
      "text/plain": [
       "<Figure size 576x432 with 1 Axes>"
      ]
     },
     "metadata": {
      "needs_background": "light"
     },
     "output_type": "display_data"
    }
   ],
   "source": [
    "print(givens.std())\n",
    "df.boxplot(column='givens',by='dataset', figsize=(8,6))\n",
    "plt.title(\"\")\n",
    "plt.xlabel('Dataset')\n",
    "plt.ylabel('Givens')\n",
    "# get rid of the automatic 'Boxplot grouped by group_by_column_name' title\n",
    "plt.suptitle(\"\")"
   ]
  },
  {
   "cell_type": "code",
   "execution_count": 563,
   "metadata": {},
   "outputs": [
    {
     "data": {
      "image/png": "[encoded data removed]",
      "text/plain": [
       "<Figure size 720x360 with 1 Axes>"
      ]
     },
     "metadata": {
      "needs_background": "light"
     },
     "output_type": "display_data"
    }
   ],
   "source": [
    "# sns.distplot(df[df['splits'] < 100]['splits'])\n",
    "means = df.groupby(['givens', 'strategy'], as_index=False).mean()\n",
    "# means = means[means['splits'] < 1000]\n",
    "# means = means[~means.strategy.str.match(\"DLIS\")]\n",
    "bar = means.groupby(['strategy', 'givens'], as_index=False)['splits'].sum()\n",
    "bar.pivot_table('splits', index='givens', columns='strategy').plot(kind='bar', figsize=(10,5))\n",
    "plt.xlabel('Givens')\n",
    "plt.ylabel('Decisions')\n",
    "plt.yscale('log')"
   ]
  },
  {
   "cell_type": "code",
   "execution_count": 564,
   "metadata": {},
   "outputs": [],
   "source": [
    "test_df = df\n",
    "test_df = test_df.groupby(['file_name', 'givens', 'strategy'], as_index=False).mean()\n",
    "test_df = test_df.set_index('file_name')\n",
    "test_df['gf_performance'] = test_df[test_df['strategy'] == 'Grab First']['splits'] / test_df[test_df['strategy'] == 'Random']['splits']\n",
    "test_df['dlis_performance'] = test_df[test_df['strategy'] == 'DLIS']['splits'] / test_df[test_df['strategy'] == 'Random']['splits']\n",
    "test_df['rdlis_performance'] = test_df[test_df['strategy'] == 'RDLIS']['splits'] / test_df[test_df['strategy'] == 'Random']['splits']"
   ]
  },
  {
   "cell_type": "code",
   "execution_count": 565,
   "metadata": {},
   "outputs": [
    {
     "data": {
      "image/png": "[encoded data removed]",
      "text/plain": [
       "<Figure size 432x360 with 1 Axes>"
      ]
     },
     "metadata": {
      "needs_background": "light"
     },
     "output_type": "display_data"
    }
   ],
   "source": [
    "# custom = test_df[test_df.dataset.str.match(\"top870\")]\n",
    "test_df = test_df[test_df['dlis_performance'] < 100]\n",
    "\n",
    "plt.figure(figsize=((6,5)))\n",
    "test_df.groupby('givens')['gf_performance'].mean().plot()\n",
    "# test_df.groupby('givens')['dlis_performance'].mean().plot()\n",
    "test_df.groupby('givens')['rdlis_performance'].mean().plot()\n",
    "test_df.groupby('givens')['dlis_performance'].mean().plot()\n",
    "\n",
    "plt.axhline(y=1, color='r', linestyle='-', label='Baseline')\n",
    "plt.yscale(\"log\")\n",
    "plt.legend(['GRAB FIRST','RDLIS','DLIS', 'RAND (baseline)'])\n",
    "plt.xlabel('Givens')\n",
    "plt.ylabel('Performance')\n",
    "plt.show()\n",
    "\n",
    "# custom = custom[~custom.strategy.str.match(\"DLIS\")]\n",
    "# custom.groupby(['givens','strategy']).mean()['gf_performance'].unstack().plot()"
   ]
  },
  {
   "cell_type": "code",
   "execution_count": 566,
   "metadata": {},
   "outputs": [
    {
     "name": "stdout",
     "output_type": "stream",
     "text": [
      "[1.4964947509335587, 1.67470908508594, 1.2854398243447234, 1.2076194905638438, 1.1921626582355491, 1.1846134682134233, 1.0700272859857942, 1.3583865857760138, 1.0052492091989398]\n"
     ]
    },
    {
     "data": {
      "text/plain": [
       "Text(0, 0.5, 'Decisions')"
      ]
     },
     "execution_count": 566,
     "metadata": {},
     "output_type": "execute_result"
    },
    {
     "data": {
      "image/png": "[encoded data removed]",
      "text/plain": [
       "<Figure size 360x288 with 1 Axes>"
      ]
     },
     "metadata": {
      "needs_background": "light"
     },
     "output_type": "display_data"
    }
   ],
   "source": [
    "custom = df[~df.strategy.str.match('DLIS')]\n",
    "custom = custom[custom.dataset.str.match(\"top870\")]\n",
    "cg = custom.groupby(['givens']).mean()['splits']\n",
    "# print(cg.diff(periods=-1))\n",
    "\n",
    "print(ratios)\n",
    "plt.figure(figsize=(5,4))\n",
    "plt.plot(cg)\n",
    "plt.grid(linestyle='--')\n",
    "plt.xlabel(\"Givens\")\n",
    "plt.ylabel(\"Decisions\")"
   ]
  },
  {
   "cell_type": "code",
   "execution_count": 339,
   "metadata": {},
   "outputs": [
    {
     "data": {
      "text/plain": [
       "[<matplotlib.lines.Line2D at 0x12c0397f0>]"
      ]
     },
     "execution_count": 339,
     "metadata": {},
     "output_type": "execute_result"
    },
    {
     "data": {
      "image/png": "[encoded data removed]",
      "text/plain": [
       "<Figure size 432x288 with 1 Axes>"
      ]
     },
     "metadata": {
      "needs_background": "light"
     },
     "output_type": "display_data"
    }
   ],
   "source": [
    "# x = np.linspace(0,10,10)\n",
    "# y = np.exp(x)\n",
    "# g = np.gradient(y)\n",
    "# plt.plot(g)\n",
    "# plt.plot(y)"
   ]
  },
  {
   "cell_type": "code",
   "execution_count": 118,
   "metadata": {},
   "outputs": [
    {
     "data": {
      "text/plain": [
       "<matplotlib.axes._subplots.AxesSubplot at 0x1211e5668>"
      ]
     },
     "execution_count": 118,
     "metadata": {},
     "output_type": "execute_result"
    },
    {
     "data": {
      "image/png": "[encoded data removed]",
      "text/plain": [
       "<Figure size 432x288 with 1 Axes>"
      ]
     },
     "metadata": {
      "needs_background": "light"
     },
     "output_type": "display_data"
    }
   ],
   "source": [
    "df.boxplot('splits', 'givens')"
   ]
  },
  {
   "cell_type": "code",
   "execution_count": 7,
   "metadata": {},
   "outputs": [],
   "source": [
    "from collections import defaultdict\n",
    "\n",
    "def make_bins(datadict, bin_size = 20):\n",
    "    bins = defaultdict(int)\n",
    "    for index, row in datadict.iterrows():\n",
    "        b = int(row['splits'] / bin_size)\n",
    "        bins[b] += 1\n",
    "    return bins\n",
    "\n",
    "bins = make_bins(golden_standard)"
   ]
  },
  {
   "cell_type": "code",
   "execution_count": 8,
   "metadata": {},
   "outputs": [
    {
     "data": {
      "image/png": "[encoded data removed]",
      "text/plain": [
       "<Figure size 432x288 with 1 Axes>"
      ]
     },
     "metadata": {
      "needs_background": "light"
     },
     "output_type": "display_data"
    }
   ],
   "source": [
    "plt.bar(list(bins.keys()), bins.values(), color='g')\n",
    "plt.show()"
   ]
  },
  {
   "cell_type": "code",
   "execution_count": 9,
   "metadata": {},
   "outputs": [
    {
     "name": "stdout",
     "output_type": "stream",
     "text": [
      "[0, 1, 2, 3, 4, 5, 6, 7, 8, 9]\n",
      "dict_values([2, 2, 51, 260, 8, 37, 109, 320, 5, 3, 14, 13, 1, 2, 4, 2, 4, 1, 3, 2, 22, 1, 1, 1, 1, 1])\n"
     ]
    }
   ],
   "source": [
    "print(sorted(list(bins.keys()))[0:10])\n",
    "print(bins.values())"
   ]
  },
  {
   "cell_type": "code",
   "execution_count": 10,
   "metadata": {},
   "outputs": [
    {
     "data": {
      "image/png": "[encoded data removed]",
      "text/plain": [
       "<Figure size 432x288 with 1 Axes>"
      ]
     },
     "metadata": {
      "needs_background": "light"
     },
     "output_type": "display_data"
    }
   ],
   "source": [
    "# TEST DATA MOEILIJKHEIDS VERDELING\n",
    "def reduce_bins(bins, i,j):\n",
    "    newbins = {}\n",
    "    for item in sorted(list(bins.keys()))[i:j]:\n",
    "        newbins[item] = bins[item]\n",
    "    return newbins\n",
    "\n",
    "new_bins = reduce_bins(bins, 1,8)\n",
    "plt.bar(list(new_bins), new_bins.values(), color='g')\n",
    "# plt.savefig('Bins_baseline_splits.png')\n",
    "plt.ylabel(\"splits\")\n",
    "plt.show()"
   ]
  },
  {
   "cell_type": "code",
   "execution_count": 11,
   "metadata": {},
   "outputs": [
    {
     "name": "stdout",
     "output_type": "stream",
     "text": [
      "Index(['splits', 'backtracks', 'clauses', 'variables', 'givens', 'unit_rule',\n",
      "       'pure_rule', 'execution_time'],\n",
      "      dtype='object')\n",
      "Index(['splits', 'backtracks', 'clauses', 'variables', 'givens', 'unit_rule',\n",
      "       'pure_rule', 'execution_time'],\n",
      "      dtype='object')\n"
     ]
    }
   ],
   "source": [
    "# Inlezen rdlis\n",
    "df = pd.read_csv('results_rdlis.csv')\n",
    "rdlis = df.groupby('file_name').mean()\n",
    "print(rdlis.columns)\n",
    "\n",
    "# Inlezen grab_first\n",
    "df = pd.read_csv('results_grab_first.csv')\n",
    "grab_first = df.groupby('file_name').mean()\n",
    "print(grab_first.columns)"
   ]
  },
  {
   "cell_type": "code",
   "execution_count": 14,
   "metadata": {},
   "outputs": [
    {
     "name": "stdout",
     "output_type": "stream",
     "text": [
      "1.1156022477056637\n",
      "[0.6507619285535848, 2.0067084730931892, 0.30434782608695654, 0.6936416184971098, 0.6375838926174496, 2.5045871559633026, 0.6755260243632337, 2.032258064516129, 0.44176706827309237, 0.3202846975088968]\n",
      "[800.6, 685.7, 92.0, 51.9, 178.8, 109.0, 90.3, 62.0, 49.8, 84.3]\n"
     ]
    },
    {
     "data": {
      "image/png": "[encoded data removed]",
      "text/plain": [
       "<Figure size 432x288 with 1 Axes>"
      ]
     },
     "metadata": {
      "needs_background": "light"
     },
     "output_type": "display_data"
    },
    {
     "data": {
      "image/png": "[encoded data removed]",
      "text/plain": [
       "<Figure size 432x288 with 1 Axes>"
      ]
     },
     "metadata": {
      "needs_background": "light"
     },
     "output_type": "display_data"
    },
    {
     "data": {
      "image/png": "[encoded data removed]",
      "text/plain": [
       "<Figure size 432x288 with 1 Axes>"
      ]
     },
     "metadata": {
      "needs_background": "light"
     },
     "output_type": "display_data"
    }
   ],
   "source": [
    "#Grab first\n",
    "performance = []\n",
    "for i, item in enumerate(grab_first[\"splits\"]):\n",
    "    performance += [item/golden_standard['splits'][i]]\n",
    "\n",
    "print(sum(performance)/len(performance))\n",
    "    \n",
    "print(performance[0:10])\n",
    "print(list(golden_standard[\"splits\"])[0:10])\n",
    "plt.scatter(list(golden_standard[\"splits\"]), performance)\n",
    "plt.show()\n",
    "    \n",
    "grab = make_bins(grab_first)\n",
    "plt.bar(list(grab), grab.values(), color='g')\n",
    "plt.show()\n",
    "\n",
    "grab = reduce_bins(grab, 0,8)\n",
    "new_bins = reduce_bins(bins, 0,8)\n",
    "plt.bar(list(grab.keys()), grab.values(), color=\"b\",alpha=0.5)\n",
    "plt.bar(list(new_bins.keys()), new_bins.values(), color='r',alpha=0.5)\n",
    "plt.show()"
   ]
  },
  {
   "cell_type": "code",
   "execution_count": 13,
   "metadata": {},
   "outputs": [
    {
     "ename": "SyntaxError",
     "evalue": "invalid syntax (<ipython-input-13-c12940a4f890>, line 1)",
     "output_type": "error",
     "traceback": [
      "\u001b[0;36m  File \u001b[0;32m\"<ipython-input-13-c12940a4f890>\"\u001b[0;36m, line \u001b[0;32m1\u001b[0m\n\u001b[0;31m    table with ave\u001b[0m\n\u001b[0m             ^\u001b[0m\n\u001b[0;31mSyntaxError\u001b[0m\u001b[0;31m:\u001b[0m invalid syntax\n"
     ]
    }
   ],
   "source": [
    "table with ave"
   ]
  },
  {
   "cell_type": "code",
   "execution_count": 151,
   "metadata": {},
   "outputs": [],
   "source": [
    "splits_rdlis = rdlis['splits']\n",
    "backtracks_rdlis = rdlis['backtracks']\n",
    "givens_rdlis = rdlis['givens']\n",
    "unit_rule_rdlis = rdlis['unit_rule']\n",
    "pure_rule_rdlis = rdlis['pure_rule']\n",
    "pure_rule_rdlis = rdlis['pure_rule']"
   ]
  },
  {
   "cell_type": "code",
   "execution_count": 152,
   "metadata": {},
   "outputs": [
    {
     "name": "stdout",
     "output_type": "stream",
     "text": [
      "75.93264367816091 99.36903411057449\n",
      "72.25724137931034 98.98799586286927\n",
      "22.836781609195402 2.161708554893838\n",
      "149.18988505747126 198.35528681008321\n",
      "149.18988505747126 198.35528681008321\n"
     ]
    }
   ],
   "source": [
    "print(splits_rdlis.mean(), splits_rdlis.std())\n",
    "print(backtracks_rdlis.mean(), backtracks_rdlis.std())\n",
    "print(givens_rdlis.mean(), givens_rdlis.std())\n",
    "print(unit_rule_rdlis.mean(), unit_rule_rdlis.std())\n",
    "print(pure_rule_rdlis.mean(), pure_rule_rdlis.std())"
   ]
  },
  {
   "cell_type": "code",
   "execution_count": 153,
   "metadata": {},
   "outputs": [
    {
     "data": {
      "image/png": "[encoded data removed]",
      "text/plain": [
       "<Figure size 432x288 with 1 Axes>"
      ]
     },
     "metadata": {
      "needs_background": "light"
     },
     "output_type": "display_data"
    },
    {
     "data": {
      "image/png": "[encoded data removed]",
      "text/plain": [
       "<Figure size 432x288 with 1 Axes>"
      ]
     },
     "metadata": {
      "needs_background": "light"
     },
     "output_type": "display_data"
    }
   ],
   "source": [
    "bins_rdlis = make_bins(rdlis)\n",
    "plt.bar(list(bins_rdlis.keys()), bins_rdlis.values(), color='g')\n",
    "plt.show()\n",
    "\n",
    "new_bins_rdlis = reduce_bins(bins_rdlis, 1,8)\n",
    "plt.bar(list(new_bins_rdlis.keys()), new_bins_rdlis.values(), color=\"b\",alpha=0.5)\n",
    "plt.bar(list(new_bins.keys()), new_bins.values(), color='r',alpha=0.5)\n",
    "plt.show()"
   ]
  },
  {
   "cell_type": "code",
   "execution_count": null,
   "metadata": {},
   "outputs": [],
   "source": []
  },
  {
   "cell_type": "code",
   "execution_count": null,
   "metadata": {},
   "outputs": [],
   "source": []
  }
 ],
 "metadata": {
  "kernelspec": {
   "display_name": "Python 3",
   "language": "python",
   "name": "python3"
  },
  "language_info": {
   "codemirror_mode": {
    "name": "ipython",
    "version": 3
   },
   "file_extension": ".py",
   "mimetype": "text/x-python",
   "name": "python",
   "nbconvert_exporter": "python",
   "pygments_lexer": "ipython3",
   "version": "3.7.1"
  }
 },
 "nbformat": 4,
 "nbformat_minor": 2
}
