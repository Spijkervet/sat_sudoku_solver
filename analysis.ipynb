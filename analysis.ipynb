{
 "cells": [
  {
   "cell_type": "markdown",
   "metadata": {},
   "source": [
    "# Analysis\n",
    "- Baseline data, Random strategy, 10x (results_baseline.csv)\n",
    "- \n"
   ]
  },
  {
   "cell_type": "code",
   "execution_count": 1,
   "metadata": {},
   "outputs": [],
   "source": [
    "import pandas as pd\n",
    "import matplotlib as plt\n",
    "%matplotlib inline"
   ]
  },
  {
   "cell_type": "code",
   "execution_count": 2,
   "metadata": {},
   "outputs": [
    {
     "name": "stdout",
     "output_type": "stream",
     "text": [
      "Index(['file_name', 'strategy', 'splits', 'backtracks', 'clauses', 'variables',\n",
      "       'givens', 'unit_rule', 'pure_rule', 'execution_time'],\n",
      "      dtype='object')\n"
     ]
    }
   ],
   "source": [
    "df = pd.read_csv('results_baseline.csv')\n",
    "print(df.columns)"
   ]
  },
  {
   "cell_type": "code",
   "execution_count": 3,
   "metadata": {},
   "outputs": [],
   "source": [
    "splits = df[df['file_name'].str.contains('top870.sdk.txt')]['splits']\n",
    "backtracks = df[df['file_name'].str.contains('top870.sdk.txt')]['backtracks']\n",
    "givens = df[df['file_name'].str.contains('top870.sdk.txt')]['givens']\n",
    "unit_rule = df[df['file_name'].str.contains('top870.sdk.txt')]['unit_rule']\n",
    "pure_rule = df[df['file_name'].str.contains('top870.sdk.txt')]['pure_rule']\n",
    "pure_rule = df[df['file_name'].str.contains('top870.sdk.txt')]['pure_rule']"
   ]
  },
  {
   "cell_type": "code",
   "execution_count": 8,
   "metadata": {},
   "outputs": [
    {
     "name": "stdout",
     "output_type": "stream",
     "text": [
      "66.33701149425288 112.01770275121004 1 2089\n",
      "61.97551724137931 111.7824812566585 0 2086\n",
      "22.836781609195402 2.1605900118578405\n",
      "129.31252873563218 223.78582210608127\n",
      "129.31252873563218 223.78582210608127\n"
     ]
    }
   ],
   "source": [
    "print(splits.mean(), splits.std(), splits.min(), splits.max())\n",
    "print(backtracks.mean(), backtracks.std(), backtracks.min(), backtracks.max())\n",
    "print(givens.mean(), givens.std())\n",
    "print(unit_rule.mean(), unit_rule.std())\n",
    "print(pure_rule.mean(), pure_rule.std())"
   ]
  },
  {
   "cell_type": "code",
   "execution_count": 5,
   "metadata": {},
   "outputs": [
    {
     "data": {
      "text/plain": [
       "<matplotlib.axes._subplots.AxesSubplot at 0x7f7e5827dcf8>"
      ]
     },
     "execution_count": 5,
     "metadata": {},
     "output_type": "execute_result"
    },
    {
     "data": {
      "image/png": "[encoded data removed]",
      "text/plain": [
       "<Figure size 432x288 with 1 Axes>"
      ]
     },
     "metadata": {
      "needs_background": "light"
     },
     "output_type": "display_data"
    }
   ],
   "source": [
    "df.boxplot('splits', 'givens')"
   ]
  },
  {
   "cell_type": "code",
   "execution_count": 15,
   "metadata": {},
   "outputs": [
    {
     "name": "stdout",
     "output_type": "stream",
     "text": [
      "{0: 2214, 1: 2071, 3: 943, 2: 1523, 6: 234, 7: 158, 5: 386, 14: 34, 11: 53, 8: 112, 4: 567, 9: 82, 10: 59, 12: 32, 13: 31, 20: 10, 19: 9, 75: 2, 80: 1, 23: 6, 41: 4, 30: 7, 27: 3, 16: 13, 17: 12, 24: 4, 35: 3, 44: 1, 26: 5, 21: 16, 37: 3, 53: 1, 59: 3, 18: 12, 28: 4, 65: 1, 29: 5, 15: 18, 47: 3, 22: 10, 25: 5, 46: 1, 58: 2, 32: 3, 56: 1, 49: 3, 92: 1, 34: 3, 61: 1, 94: 1, 33: 2, 31: 1, 52: 1, 104: 1, 60: 3, 87: 1, 40: 3, 103: 1, 54: 3, 38: 1, 71: 1, 42: 1, 73: 2, 45: 1, 36: 2}\n"
     ]
    }
   ],
   "source": [
    "bins ={}\n",
    "for item in splits:\n",
    "    try:\n",
    "        bins[int(item/20)] += []\n",
    "    except:\n",
    "        bins[int(item/20)] = \n",
    "print(bins)"
   ]
  },
  {
   "cell_type": "code",
   "execution_count": null,
   "metadata": {},
   "outputs": [],
   "source": []
  }
 ],
 "metadata": {
  "kernelspec": {
   "display_name": "Python 3",
   "language": "python",
   "name": "python3"
  },
  "language_info": {
   "codemirror_mode": {
    "name": "ipython",
    "version": 3
   },
   "file_extension": ".py",
   "mimetype": "text/x-python",
   "name": "python",
   "nbconvert_exporter": "python",
   "pygments_lexer": "ipython3",
   "version": "3.6.7"
  }
 },
 "nbformat": 4,
 "nbformat_minor": 2
}
