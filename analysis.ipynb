{
 "cells": [
  {
   "cell_type": "markdown",
   "metadata": {},
   "source": [
    "# Analysis\n",
    "- Baseline data, Random strategy, 10x (results_baseline.csv)\n",
    "- \n"
   ]
  },
  {
   "cell_type": "code",
   "execution_count": 1,
   "metadata": {},
   "outputs": [],
   "source": [
    "import pandas as pd\n",
    "import matplotlib.pyplot as plt\n",
    "import numpy as np\n",
    "%matplotlib inline"
   ]
  },
  {
   "cell_type": "code",
   "execution_count": 2,
   "metadata": {},
   "outputs": [
    {
     "name": "stdout",
     "output_type": "stream",
     "text": [
      "Index(['file_name', 'strategy', 'splits', 'backtracks', 'clauses', 'variables',\n",
      "       'givens', 'unit_rule', 'pure_rule', 'execution_time'],\n",
      "      dtype='object')\n"
     ]
    }
   ],
   "source": [
    "df = pd.read_csv('results_baseline.csv')\n",
    "print(df.columns)"
   ]
  },
  {
   "cell_type": "code",
   "execution_count": 3,
   "metadata": {},
   "outputs": [],
   "source": [
    "golden_standard = df.groupby('file_name').mean()"
   ]
  },
  {
   "cell_type": "code",
   "execution_count": 4,
   "metadata": {},
   "outputs": [],
   "source": [
    "splits = golden_standard['splits']\n",
    "backtracks = golden_standard['backtracks']\n",
    "givens = golden_standard['givens']\n",
    "unit_rule = golden_standard['unit_rule']\n",
    "pure_rule = golden_standard['pure_rule']\n",
    "pure_rule = golden_standard['pure_rule']"
   ]
  },
  {
   "cell_type": "code",
   "execution_count": 5,
   "metadata": {},
   "outputs": [
    {
     "name": "stdout",
     "output_type": "stream",
     "text": [
      "66.33701149425288 82.81119213166082\n",
      "61.975517241379315 82.29897577560575\n",
      "22.836781609195402 2.161708554893838\n",
      "129.31252873563218 165.10782233407247\n",
      "129.31252873563218 165.10782233407247\n"
     ]
    }
   ],
   "source": [
    "print(splits.mean(), splits.std())\n",
    "print(backtracks.mean(), backtracks.std())\n",
    "print(givens.mean(), givens.std())\n",
    "print(unit_rule.mean(), unit_rule.std())\n",
    "print(pure_rule.mean(), pure_rule.std())"
   ]
  },
  {
   "cell_type": "code",
   "execution_count": 6,
   "metadata": {},
   "outputs": [
    {
     "data": {
      "text/plain": [
       "<matplotlib.axes._subplots.AxesSubplot at 0x7f084c6360f0>"
      ]
     },
     "execution_count": 6,
     "metadata": {},
     "output_type": "execute_result"
    },
    {
     "data": {
      "image/png": "[encoded data removed]",
      "text/plain": [
       "<Figure size 432x288 with 1 Axes>"
      ]
     },
     "metadata": {
      "needs_background": "light"
     },
     "output_type": "display_data"
    }
   ],
   "source": [
    "df.boxplot('splits', 'givens')"
   ]
  },
  {
   "cell_type": "code",
   "execution_count": 7,
   "metadata": {},
   "outputs": [],
   "source": [
    "from collections import defaultdict\n",
    "\n",
    "def make_bins(datadict, bin_size = 20):\n",
    "    bins = defaultdict(int)\n",
    "    for index, row in datadict.iterrows():\n",
    "        b = int(row['splits'] / bin_size)\n",
    "        bins[b] += 1\n",
    "    return bins\n",
    "\n",
    "bins = make_bins(golden_standard)"
   ]
  },
  {
   "cell_type": "code",
   "execution_count": 8,
   "metadata": {},
   "outputs": [
    {
     "data": {
      "image/png": "[encoded data removed]",
      "text/plain": [
       "<Figure size 432x288 with 1 Axes>"
      ]
     },
     "metadata": {
      "needs_background": "light"
     },
     "output_type": "display_data"
    }
   ],
   "source": [
    "plt.bar(list(bins.keys()), bins.values(), color='g')\n",
    "plt.show()"
   ]
  },
  {
   "cell_type": "code",
   "execution_count": 9,
   "metadata": {},
   "outputs": [
    {
     "name": "stdout",
     "output_type": "stream",
     "text": [
      "[0, 1, 2, 3, 4, 5, 6, 7, 8, 9]\n",
      "dict_values([2, 2, 51, 260, 8, 37, 109, 320, 5, 3, 14, 13, 1, 2, 4, 2, 4, 1, 3, 2, 22, 1, 1, 1, 1, 1])\n"
     ]
    }
   ],
   "source": [
    "print(sorted(list(bins.keys()))[0:10])\n",
    "print(bins.values())"
   ]
  },
  {
   "cell_type": "code",
   "execution_count": 10,
   "metadata": {},
   "outputs": [
    {
     "data": {
      "image/png": "[encoded data removed]",
      "text/plain": [
       "<Figure size 432x288 with 1 Axes>"
      ]
     },
     "metadata": {
      "needs_background": "light"
     },
     "output_type": "display_data"
    }
   ],
   "source": [
    "# TEST DATA MOEILIJKHEIDS VERDELING\n",
    "def reduce_bins(bins, i,j):\n",
    "    newbins = {}\n",
    "    for item in sorted(list(bins.keys()))[i:j]:\n",
    "        newbins[item] = bins[item]\n",
    "    return newbins\n",
    "\n",
    "new_bins = reduce_bins(bins, 1,8)\n",
    "plt.bar(list(new_bins), new_bins.values(), color='g')\n",
    "# plt.savefig('Bins_baseline_splits.png')\n",
    "plt.ylabel(\"splits\")\n",
    "plt.show()"
   ]
  },
  {
   "cell_type": "code",
   "execution_count": 11,
   "metadata": {},
   "outputs": [
    {
     "name": "stdout",
     "output_type": "stream",
     "text": [
      "Index(['splits', 'backtracks', 'clauses', 'variables', 'givens', 'unit_rule',\n",
      "       'pure_rule', 'execution_time'],\n",
      "      dtype='object')\n",
      "Index(['splits', 'backtracks', 'clauses', 'variables', 'givens', 'unit_rule',\n",
      "       'pure_rule', 'execution_time'],\n",
      "      dtype='object')\n"
     ]
    }
   ],
   "source": [
    "# Inlezen rdlis\n",
    "df = pd.read_csv('results_rdlis.csv')\n",
    "rdlis = df.groupby('file_name').mean()\n",
    "print(rdlis.columns)\n",
    "\n",
    "# Inlezen grab_first\n",
    "df = pd.read_csv('results_grab_first.csv')\n",
    "grab_first = df.groupby('file_name').mean()\n",
    "print(grab_first.columns)"
   ]
  },
  {
   "cell_type": "code",
   "execution_count": 14,
   "metadata": {},
   "outputs": [
    {
     "name": "stdout",
     "output_type": "stream",
     "text": [
      "1.1156022477056637\n",
      "[0.6507619285535848, 2.0067084730931892, 0.30434782608695654, 0.6936416184971098, 0.6375838926174496, 2.5045871559633026, 0.6755260243632337, 2.032258064516129, 0.44176706827309237, 0.3202846975088968]\n",
      "[800.6, 685.7, 92.0, 51.9, 178.8, 109.0, 90.3, 62.0, 49.8, 84.3]\n"
     ]
    },
    {
     "data": {
      "image/png": "[encoded data removed]",
      "text/plain": [
       "<Figure size 432x288 with 1 Axes>"
      ]
     },
     "metadata": {
      "needs_background": "light"
     },
     "output_type": "display_data"
    },
    {
     "data": {
      "image/png": "[encoded data removed]",
      "text/plain": [
       "<Figure size 432x288 with 1 Axes>"
      ]
     },
     "metadata": {
      "needs_background": "light"
     },
     "output_type": "display_data"
    },
    {
     "data": {
      "image/png": "[encoded data removed]",
      "text/plain": [
       "<Figure size 432x288 with 1 Axes>"
      ]
     },
     "metadata": {
      "needs_background": "light"
     },
     "output_type": "display_data"
    }
   ],
   "source": [
    "#Grab first\n",
    "performance = []\n",
    "for i, item in enumerate(grab_first[\"splits\"]):\n",
    "    performance += [item/golden_standard['splits'][i]]\n",
    "\n",
    "print(sum(performance)/len(performance))\n",
    "    \n",
    "print(performance[0:10])\n",
    "print(list(golden_standard[\"splits\"])[0:10])\n",
    "plt.scatter(list(golden_standard[\"splits\"]), performance)\n",
    "plt.show()\n",
    "    \n",
    "grab = make_bins(grab_first)\n",
    "plt.bar(list(grab), grab.values(), color='g')\n",
    "plt.show()\n",
    "\n",
    "grab = reduce_bins(grab, 0,8)\n",
    "new_bins = reduce_bins(bins, 0,8)\n",
    "plt.bar(list(grab.keys()), grab.values(), color=\"b\",alpha=0.5)\n",
    "plt.bar(list(new_bins.keys()), new_bins.values(), color='r',alpha=0.5)\n",
    "plt.show()"
   ]
  },
  {
   "cell_type": "code",
   "execution_count": 13,
   "metadata": {},
   "outputs": [
    {
     "ename": "SyntaxError",
     "evalue": "invalid syntax (<ipython-input-13-c12940a4f890>, line 1)",
     "output_type": "error",
     "traceback": [
      "\u001b[0;36m  File \u001b[0;32m\"<ipython-input-13-c12940a4f890>\"\u001b[0;36m, line \u001b[0;32m1\u001b[0m\n\u001b[0;31m    table with ave\u001b[0m\n\u001b[0m             ^\u001b[0m\n\u001b[0;31mSyntaxError\u001b[0m\u001b[0;31m:\u001b[0m invalid syntax\n"
     ]
    }
   ],
   "source": [
    "table with ave"
   ]
  },
  {
   "cell_type": "code",
   "execution_count": 151,
   "metadata": {},
   "outputs": [],
   "source": [
    "splits_rdlis = rdlis['splits']\n",
    "backtracks_rdlis = rdlis['backtracks']\n",
    "givens_rdlis = rdlis['givens']\n",
    "unit_rule_rdlis = rdlis['unit_rule']\n",
    "pure_rule_rdlis = rdlis['pure_rule']\n",
    "pure_rule_rdlis = rdlis['pure_rule']"
   ]
  },
  {
   "cell_type": "code",
   "execution_count": 152,
   "metadata": {},
   "outputs": [
    {
     "name": "stdout",
     "output_type": "stream",
     "text": [
      "75.93264367816091 99.36903411057449\n",
      "72.25724137931034 98.98799586286927\n",
      "22.836781609195402 2.161708554893838\n",
      "149.18988505747126 198.35528681008321\n",
      "149.18988505747126 198.35528681008321\n"
     ]
    }
   ],
   "source": [
    "print(splits_rdlis.mean(), splits_rdlis.std())\n",
    "print(backtracks_rdlis.mean(), backtracks_rdlis.std())\n",
    "print(givens_rdlis.mean(), givens_rdlis.std())\n",
    "print(unit_rule_rdlis.mean(), unit_rule_rdlis.std())\n",
    "print(pure_rule_rdlis.mean(), pure_rule_rdlis.std())"
   ]
  },
  {
   "cell_type": "code",
   "execution_count": 153,
   "metadata": {},
   "outputs": [
    {
     "data": {
      "image/png": "[encoded data removed]",
      "text/plain": [
       "<Figure size 432x288 with 1 Axes>"
      ]
     },
     "metadata": {
      "needs_background": "light"
     },
     "output_type": "display_data"
    },
    {
     "data": {
      "image/png": "[encoded data removed]",
      "text/plain": [
       "<Figure size 432x288 with 1 Axes>"
      ]
     },
     "metadata": {
      "needs_background": "light"
     },
     "output_type": "display_data"
    }
   ],
   "source": [
    "bins_rdlis = make_bins(rdlis)\n",
    "plt.bar(list(bins_rdlis.keys()), bins_rdlis.values(), color='g')\n",
    "plt.show()\n",
    "\n",
    "new_bins_rdlis = reduce_bins(bins_rdlis, 1,8)\n",
    "plt.bar(list(new_bins_rdlis.keys()), new_bins_rdlis.values(), color=\"b\",alpha=0.5)\n",
    "plt.bar(list(new_bins.keys()), new_bins.values(), color='r',alpha=0.5)\n",
    "plt.show()"
   ]
  },
  {
   "cell_type": "code",
   "execution_count": null,
   "metadata": {},
   "outputs": [],
   "source": []
  },
  {
   "cell_type": "code",
   "execution_count": null,
   "metadata": {},
   "outputs": [],
   "source": []
  }
 ],
 "metadata": {
  "kernelspec": {
   "display_name": "Python 3",
   "language": "python",
   "name": "python3"
  },
  "language_info": {
   "codemirror_mode": {
    "name": "ipython",
    "version": 3
   },
   "file_extension": ".py",
   "mimetype": "text/x-python",
   "name": "python",
   "nbconvert_exporter": "python",
   "pygments_lexer": "ipython3",
   "version": "3.6.7"
  }
 },
 "nbformat": 4,
 "nbformat_minor": 2
}
