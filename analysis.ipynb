{
 "cells": [
  {
   "cell_type": "markdown",
   "metadata": {},
   "source": [
    "# Analysis\n",
    "- Baseline data, Random strategy, 10x (results_baseline.csv)\n",
    "- \n"
   ]
  },
  {
   "cell_type": "code",
   "execution_count": null,
   "metadata": {},
   "outputs": [],
   "source": [
    "import pandas as pd\n",
    "import matplotlib as plt\n",
    "%matplotlib inline"
   ]
  },
  {
   "cell_type": "code",
   "execution_count": 7,
   "metadata": {},
   "outputs": [
    {
     "name": "stdout",
     "output_type": "stream",
     "text": [
      "Index(['file_name', 'strategy', 'splits', 'backtracks', 'clauses', 'variables',\n",
      "       'givens', 'unit_rule', 'pure_rule', 'execution_time'],\n",
      "      dtype='object')\n"
     ]
    }
   ],
   "source": [
    "df = pd.read_csv('results_baseline.csv')\n",
    "print(df.columns)"
   ]
  },
  {
   "cell_type": "code",
   "execution_count": 30,
   "metadata": {},
   "outputs": [],
   "source": [
    "splits = df[df['file_name'].str.contains('top870.sdk.txt')]['splits']\n",
    "backtracks = df[df['file_name'].str.contains('top870.sdk.txt')]['backtracks']\n",
    "givens = df[df['file_name'].str.contains('top870.sdk.txt')]['givens']\n",
    "unit_rule = df[df['file_name'].str.contains('top870.sdk.txt')]['unit_rule']\n",
    "pure_rule = df[df['file_name'].str.contains('top870.sdk.txt')]['pure_rule']\n",
    "pure_rule = df[df['file_name'].str.contains('top870.sdk.txt')]['pure_rule']"
   ]
  },
  {
   "cell_type": "code",
   "execution_count": 31,
   "metadata": {},
   "outputs": [
    {
     "name": "stdout",
     "output_type": "stream",
     "text": [
      "52.24064171122995 58.00102757353522\n",
      "48.19251336898396 57.993560521221525\n",
      "22.433155080213904 2.651753769954139\n",
      "101.43315508021391 115.97065615223121\n",
      "101.43315508021391 115.97065615223121\n"
     ]
    }
   ],
   "source": [
    "print(splits.mean(), splits.std())\n",
    "print(backtracks.mean(), backtracks.std())\n",
    "print(givens.mean(), givens.std())\n",
    "print(unit_rule.mean(), unit_rule.std())\n",
    "print(pure_rule.mean(), pure_rule.std())"
   ]
  },
  {
   "cell_type": "code",
   "execution_count": 32,
   "metadata": {},
   "outputs": [
    {
     "data": {
      "text/plain": [
       "<matplotlib.axes._subplots.AxesSubplot at 0x11f2617b8>"
      ]
     },
     "execution_count": 32,
     "metadata": {},
     "output_type": "execute_result"
    },
    {
     "data": {
      "image/png": "[encoded data removed]",
      "text/plain": [
       "<Figure size 432x288 with 1 Axes>"
      ]
     },
     "metadata": {
      "needs_background": "light"
     },
     "output_type": "display_data"
    }
   ],
   "source": [
    "df.boxplot('splits', 'givens')"
   ]
  },
  {
   "cell_type": "code",
   "execution_count": null,
   "metadata": {},
   "outputs": [],
   "source": []
  }
 ],
 "metadata": {
  "kernelspec": {
   "display_name": "Python 3",
   "language": "python",
   "name": "python3"
  },
  "language_info": {
   "codemirror_mode": {
    "name": "ipython",
    "version": 3
   },
   "file_extension": ".py",
   "mimetype": "text/x-python",
   "name": "python",
   "nbconvert_exporter": "python",
   "pygments_lexer": "ipython3",
   "version": "3.7.1"
  }
 },
 "nbformat": 4,
 "nbformat_minor": 2
}
